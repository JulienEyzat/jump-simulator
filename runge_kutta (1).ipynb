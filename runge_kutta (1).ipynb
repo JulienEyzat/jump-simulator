{
 "cells": [
  {
   "cell_type": "code",
   "execution_count": 2,
   "metadata": {},
   "outputs": [],
   "source": [
    "import scipy.integrate\n",
    "import numpy as np\n",
    "import matplotlib.pyplot as plt"
   ]
  },
  {
   "cell_type": "code",
   "execution_count": null,
   "metadata": {},
   "outputs": [],
   "source": [
    "# x''(t) = -(alpha/m)*(x')**2 - (alpha/m)*wind**2\n",
    "def dU_dt(t, U, alphax, m, windx_dir, windx):\n",
    "    # Here U is a vector such that y=U[0] and z=U[1]. This function should return [y', z']\n",
    "    return [U[1], -(alphax/m)*(U[1]**2-windx_dir*windx**2)]\n",
    "\n",
    "# y''(t) = -(alpha/m)*(y')**2 - (alpha/m)*wind**2 - g\n",
    "def dV_dt(t, V, alphay, m, windy_dir, windy, g):\n",
    "    return [V[1], (alphay/m)*(V[1]**2+windy_dir*windy**2)-g]"
   ]
  },
  {
   "cell_type": "code",
   "execution_count": 62,
   "metadata": {},
   "outputs": [],
   "source": [
    "Cx = 1.2 # https://fr.wikipedia.org/wiki/Coefficient_de_tra%C3%AEn%C3%A9e\n",
    "rho = 1.225 # https://fr.wikipedia.org/wiki/Masse_volumique_de_l%27air\n",
    "Sx = 0.4*1.8\n",
    "Sy = 0.15*0.15\n",
    "alphax = (1/2)*Cx*rho*Sx\n",
    "alphay = (1/2)*Cx*rho*Sy\n",
    "\n",
    "windx_dir = 1 # or -1, wind oriented in the same direction as the x vector (push the human if positive)\n",
    "windy_dir = 1 # or -1, wind oriented in the same direction as the y vector (slow the fall of the human if positive)\n",
    "windx = 0 # Speed in m/s of wind in x axis\n",
    "windy = 0 # Speed in m/s of wind in y axis\n",
    "\n",
    "m = 70\n",
    "g = 9.8\n",
    "\n",
    "t0 = 0\n",
    "tend = 2\n",
    "\n",
    "x0 = 0\n",
    "vx0 = 5\n",
    "\n",
    "y0 = 10\n",
    "vy0 = 0\n",
    "\n",
    "U0 = [x0, vx0]\n",
    "V0 = [y0, vy0]\n",
    "ts = np.linspace(t0, tend, 200)"
   ]
  },
  {
   "cell_type": "code",
   "execution_count": 63,
   "metadata": {},
   "outputs": [],
   "source": [
    "Us = scipy.integrate.solve_ivp(dU_dt, t_span=(t0, tend), y0=(x0, vx0), method=\"RK45\", args=(alphax, m, windx_dir, windx), dense_output=True)\n",
    "xs = Us.sol(ts)[0]"
   ]
  },
  {
   "cell_type": "code",
   "execution_count": 67,
   "metadata": {},
   "outputs": [],
   "source": [
    "Vs = scipy.integrate.solve_ivp(dV_dt, t_span=(t0, tend), y0=(y0, vy0), method=\"RK45\", args=(alphay, m, windy_dir, windy, g), dense_output=True)\n",
    "ys = Vs.sol(ts)[0]"
   ]
  },
  {
   "cell_type": "code",
   "execution_count": 68,
   "metadata": {},
   "outputs": [
    {
     "data": {
      "image/png": "[encoded data removed]",
      "text/plain": [
       "<Figure size 432x288 with 1 Axes>"
      ]
     },
     "metadata": {
      "needs_background": "light"
     },
     "output_type": "display_data"
    }
   ],
   "source": [
    "plt.xlabel(\"t\")\n",
    "plt.ylabel(\"x\")\n",
    "plt.plot(ts,xs)\n",
    "# plt.xlim([0, 3])\n",
    "# plt.ylim([-5, 15])\n",
    "plt.show()"
   ]
  },
  {
   "cell_type": "code",
   "execution_count": 69,
   "metadata": {},
   "outputs": [
    {
     "data": {
      "image/png": "[encoded data removed]",
      "text/plain": [
       "<Figure size 432x288 with 1 Axes>"
      ]
     },
     "metadata": {
      "needs_background": "light"
     },
     "output_type": "display_data"
    }
   ],
   "source": [
    "plt.xlabel(\"t\")\n",
    "plt.ylabel(\"y\")\n",
    "# plt.xlim([0, 3])\n",
    "plt.ylim([-5, 15])\n",
    "plt.plot(ts,ys)\n",
    "plt.axhline(y=0, color='r')\n",
    "plt.show()"
   ]
  },
  {
   "cell_type": "code",
   "execution_count": 70,
   "metadata": {},
   "outputs": [
    {
     "data": {
      "image/png": "[encoded data removed]",
      "text/plain": [
       "<Figure size 432x288 with 1 Axes>"
      ]
     },
     "metadata": {
      "needs_background": "light"
     },
     "output_type": "display_data"
    }
   ],
   "source": [
    "plt.xlabel(\"x\")\n",
    "plt.ylabel(\"y\")\n",
    "plt.xlim([0, 15])\n",
    "plt.ylim([0, 15])\n",
    "plt.plot(xs, ys)\n",
    "plt.axhline(y=0, color='r')\n",
    "plt.show()"
   ]
  },
  {
   "cell_type": "code",
   "execution_count": 81,
   "metadata": {},
   "outputs": [],
   "source": [
    "def get_jumped_distance(t0, tend, x0, vx0, y0, vy0, alphax, m, windx_dir, windx, alphay, windy_dir, windy):\n",
    "    Us = scipy.integrate.solve_ivp(dU_dt, t_span=(t0, tend), y0=(x0, vx0), method=\"RK45\", args=(alphax, m, windx_dir, windx), dense_output=True)\n",
    "    xs = Us.sol(ts)[0]\n",
    "    Vs = scipy.integrate.solve_ivp(dV_dt, t_span=(t0, tend), y0=(y0, vy0), method=\"RK45\", args=(alphay, m, windy_dir, windy, g), dense_output=True)\n",
    "    ys = Vs.sol(ts)[0]\n",
    "    \n",
    "    return xs[np.where(ys == np.min(np.abs(ys)))][0]"
   ]
  },
  {
   "cell_type": "code",
   "execution_count": 88,
   "metadata": {},
   "outputs": [],
   "source": [
    "def get_jumped_distances_x0(t0, tend, x0s, vx0, y0, vy0, alphax, m, windx_dir, windx, alphay, windy_dir, windy):\n",
    "    values = []\n",
    "    for x0 in x0s:\n",
    "        values.append(get_jumped_distance(t0, tend, x0, vx0, y0, vy0, alphax, m, windx_dir, windx, alphay, windy_dir, windy))\n",
    "    return values"
   ]
  },
  {
   "cell_type": "code",
   "execution_count": 83,
   "metadata": {},
   "outputs": [
    {
     "name": "stdout",
     "output_type": "stream",
     "text": [
      "6.94986214359589\n"
     ]
    }
   ],
   "source": [
    "print(get_jumped_distance(t0, tend, x0, vx0, y0, vy0, alphax, m, windx_dir, windx, alphay, windy_dir, windy))"
   ]
  },
  {
   "cell_type": "code",
   "execution_count": 86,
   "metadata": {},
   "outputs": [],
   "source": [
    "x0s = range(0,10)\n",
    "xs = get_jumped_distances_x0(t0, tend, x0s, vx0, y0, vy0, alphax, m, windx_dir, windx, alphay, windy_dir, windy)"
   ]
  },
  {
   "cell_type": "code",
   "execution_count": 87,
   "metadata": {},
   "outputs": [
    {
     "data": {
      "image/png": "[encoded data removed]",
      "text/plain": [
       "<Figure size 432x288 with 1 Axes>"
      ]
     },
     "metadata": {
      "needs_background": "light"
     },
     "output_type": "display_data"
    }
   ],
   "source": [
    "plt.plot(x0s, xs)\n",
    "plt.show()"
   ]
  },
  {
   "cell_type": "code",
   "execution_count": 89,
   "metadata": {},
   "outputs": [],
   "source": [
    "def get_jumped_distances_vx0(t0, tend, x0s, vx0, y0, vy0, alphax, m, windx_dir, windx, alphay, windy_dir, windy):\n",
    "    values = []\n",
    "    for vx0 in vx0s:\n",
    "        values.append(get_jumped_distance(t0, tend, x0, vx0, y0, vy0, alphax, m, windx_dir, windx, alphay, windy_dir, windy))\n",
    "    return values"
   ]
  },
  {
   "cell_type": "code",
   "execution_count": 90,
   "metadata": {},
   "outputs": [],
   "source": [
    "vx0s = range(0,10)\n",
    "xs = get_jumped_distances_vx0(t0, tend, x0s, vx0, y0, vy0, alphax, m, windx_dir, windx, alphay, windy_dir, windy)"
   ]
  },
  {
   "cell_type": "code",
   "execution_count": 91,
   "metadata": {},
   "outputs": [
    {
     "data": {
      "image/png": "[encoded data removed]",
      "text/plain": [
       "<Figure size 432x288 with 1 Axes>"
      ]
     },
     "metadata": {
      "needs_background": "light"
     },
     "output_type": "display_data"
    }
   ],
   "source": [
    "plt.plot(vx0s, xs)\n",
    "plt.show()"
   ]
  },
  {
   "cell_type": "code",
   "execution_count": 5,
   "metadata": {},
   "outputs": [
    {
     "ename": "ImportError",
     "evalue": "Plotly express requires pandas to be installed.",
     "output_type": "error",
     "traceback": [
      "\u001b[0;31m---------------------------------------------------------------------------\u001b[0m",
      "\u001b[0;31mImportError\u001b[0m                               Traceback (most recent call last)",
      "\u001b[0;32m/tmp/ipykernel_1648/84286171.py\u001b[0m in \u001b[0;36m<module>\u001b[0;34m\u001b[0m\n\u001b[1;32m      3\u001b[0m \u001b[0;32mimport\u001b[0m \u001b[0mdash_html_components\u001b[0m \u001b[0;32mas\u001b[0m \u001b[0mhtml\u001b[0m\u001b[0;34m\u001b[0m\u001b[0;34m\u001b[0m\u001b[0m\n\u001b[1;32m      4\u001b[0m \u001b[0;32mfrom\u001b[0m \u001b[0mdash\u001b[0m\u001b[0;34m.\u001b[0m\u001b[0mdependencies\u001b[0m \u001b[0;32mimport\u001b[0m \u001b[0mInput\u001b[0m\u001b[0;34m,\u001b[0m \u001b[0mOutput\u001b[0m\u001b[0;34m\u001b[0m\u001b[0;34m\u001b[0m\u001b[0m\n\u001b[0;32m----> 5\u001b[0;31m \u001b[0;32mimport\u001b[0m \u001b[0mplotly\u001b[0m\u001b[0;34m.\u001b[0m\u001b[0mexpress\u001b[0m \u001b[0;32mas\u001b[0m \u001b[0mpx\u001b[0m\u001b[0;34m\u001b[0m\u001b[0;34m\u001b[0m\u001b[0m\n\u001b[0m\u001b[1;32m      6\u001b[0m \u001b[0;34m\u001b[0m\u001b[0m\n\u001b[1;32m      7\u001b[0m \u001b[0;32mimport\u001b[0m \u001b[0mpandas\u001b[0m \u001b[0;32mas\u001b[0m \u001b[0mpd\u001b[0m\u001b[0;34m\u001b[0m\u001b[0;34m\u001b[0m\u001b[0m\n",
      "\u001b[0;32m~/.local/lib/python3.9/site-packages/plotly/express/__init__.py\u001b[0m in \u001b[0;36m<module>\u001b[0;34m\u001b[0m\n\u001b[1;32m      8\u001b[0m \u001b[0mpd\u001b[0m \u001b[0;34m=\u001b[0m \u001b[0moptional_imports\u001b[0m\u001b[0;34m.\u001b[0m\u001b[0mget_module\u001b[0m\u001b[0;34m(\u001b[0m\u001b[0;34m\"pandas\"\u001b[0m\u001b[0;34m)\u001b[0m\u001b[0;34m\u001b[0m\u001b[0;34m\u001b[0m\u001b[0m\n\u001b[1;32m      9\u001b[0m \u001b[0;32mif\u001b[0m \u001b[0mpd\u001b[0m \u001b[0;32mis\u001b[0m \u001b[0;32mNone\u001b[0m\u001b[0;34m:\u001b[0m\u001b[0;34m\u001b[0m\u001b[0;34m\u001b[0m\u001b[0m\n\u001b[0;32m---> 10\u001b[0;31m     raise ImportError(\n\u001b[0m\u001b[1;32m     11\u001b[0m         \"\"\"\\\n\u001b[1;32m     12\u001b[0m Plotly express requires pandas to be installed.\"\"\"\n",
      "\u001b[0;31mImportError\u001b[0m: Plotly express requires pandas to be installed."
     ]
    }
   ],
   "source": [
    "import dash\n",
    "import dash_core_components as dcc\n",
    "import dash_html_components as html\n",
    "from dash.dependencies import Input, Output\n",
    "import plotly.express as px\n",
    "\n",
    "import pandas as pd\n",
    "\n",
    "df = pd.read_csv('https://raw.githubusercontent.com/plotly/datasets/master/gapminderDataFiveYear.csv')\n",
    "\n",
    "app = dash.Dash(__name__)\n",
    "\n",
    "app.layout = html.Div([\n",
    "    dcc.Graph(id='graph-with-slider'),\n",
    "    dcc.Slider(\n",
    "        id='year-slider',\n",
    "        min=df['year'].min(),\n",
    "        max=df['year'].max(),\n",
    "        value=df['year'].min(),\n",
    "        marks={str(year): str(year) for year in df['year'].unique()},\n",
    "        step=None\n",
    "    )\n",
    "])\n",
    "\n",
    "\n",
    "@app.callback(\n",
    "    Output('graph-with-slider', 'figure'),\n",
    "    Input('year-slider', 'value'))\n",
    "def update_figure(selected_year):\n",
    "    filtered_df = df[df.year == selected_year]\n",
    "\n",
    "    fig = px.scatter(filtered_df, x=\"gdpPercap\", y=\"lifeExp\",\n",
    "                     size=\"pop\", color=\"continent\", hover_name=\"country\",\n",
    "                     log_x=True, size_max=55)\n",
    "\n",
    "    fig.update_layout(transition_duration=500)\n",
    "\n",
    "    return fig\n",
    "\n",
    "\n",
    "if __name__ == '__main__':\n",
    "    app.run_server(debug=True)\n"
   ]
  },
  {
   "cell_type": "code",
   "execution_count": null,
   "metadata": {},
   "outputs": [],
   "source": []
  }
 ],
 "metadata": {
  "createdOn": 1636103286880,
  "creator": "t0227940",
  "customFields": {},
  "kernelspec": {
   "display_name": "Python 3 (ipykernel)",
   "language": "python",
   "name": "python3"
  },
  "language_info": {
   "codemirror_mode": {
    "name": "ipython",
    "version": 3
   },
   "file_extension": ".py",
   "mimetype": "text/x-python",
   "name": "python",
   "nbconvert_exporter": "python",
   "pygments_lexer": "ipython3",
   "version": "3.9.7"
  },
  "modifiedBy": "t0227940",
  "tags": []
 },
 "nbformat": 4,
 "nbformat_minor": 4
}
